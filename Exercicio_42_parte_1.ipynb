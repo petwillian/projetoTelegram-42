{
  "nbformat": 4,
  "nbformat_minor": 0,
  "metadata": {
    "colab": {
      "provenance": []
    },
    "kernelspec": {
      "name": "python3",
      "display_name": "Python 3"
    }
  },
  "cells": [
    {
      "cell_type": "markdown",
      "metadata": {
        "id": "KJqp9AANOCtf"
      },
      "source": [
        "<img src=\"https://raw.githubusercontent.com/andre-marcos-perez/ebac-course-utils/main/media/logo/newebac_logo_black_half.png\" alt=\"ebac-logo\">\n",
        "\n",
        "---\n",
        "\n",
        "# **Módulo** | Pipeline de Dados do Telegram I\n",
        "Caderno de **Exercícios**<br>\n",
        "Professor [André Perez](https://www.linkedin.com/in/andremarcosperez/)\n",
        "\n",
        "---"
      ]
    },
    {
      "cell_type": "markdown",
      "metadata": {
        "id": "d9jDtUbDOE1-"
      },
      "source": [
        "# **Tópicos**\n",
        "\n",
        "<ol type=\"1\">\n",
        "  <li>Contexto;</li>\n",
        "  <li>Telegram;</li>\n",
        "  <li>Dados.</li>\n",
        "</ol>"
      ]
    },
    {
      "cell_type": "markdown",
      "metadata": {
        "id": "SmoHgt-lwkpD"
      },
      "source": [
        "---"
      ]
    },
    {
      "cell_type": "markdown",
      "metadata": {
        "id": "GABI6OW8OfQ2"
      },
      "source": [
        "# **Exercícios**"
      ]
    },
    {
      "cell_type": "markdown",
      "metadata": {
        "id": "ne7Ay0HKaGSv"
      },
      "source": [
        "## 1\\. Telegram."
      ]
    },
    {
      "cell_type": "markdown",
      "metadata": {
        "id": "OQxOVktrzG9I"
      },
      "source": [
        "Replique as atividades da aula 2."
      ]
    },
    {
      "cell_type": "markdown",
      "source": [
        "1.1. Crie uma conta no **Telegram** caso não possua uma e faça o login na versão web da ferramenta através desse [link](https://web.telegram.org)."
      ],
      "metadata": {
        "id": "E69nBHvAa_O5"
      }
    },
    {
      "cell_type": "markdown",
      "source": [
        "1.2. Crie um *bot*."
      ],
      "metadata": {
        "id": "R9Ils6eccOLS"
      }
    },
    {
      "cell_type": "markdown",
      "source": [
        "1.3. Crie um grupo e adicione o *bot*."
      ],
      "metadata": {
        "id": "8oTn1Z1Md2GQ"
      }
    },
    {
      "cell_type": "markdown",
      "source": [
        "1.4. Torne o *bot* administrador do grupo."
      ],
      "metadata": {
        "id": "LzXWWUWzeNxt"
      }
    },
    {
      "cell_type": "code",
      "source": [
        "!wget -O 'bot-administrador-do-grupo.jpg' 'https://raw.githubusercontent.com/petwillian/projetoTelegram-42/refs/heads/main/bot-administrador-do-grupo.jpg'"
      ],
      "metadata": {
        "id": "n2UqTSwnajYZ"
      },
      "execution_count": null,
      "outputs": []
    },
    {
      "cell_type": "code",
      "source": [
        "import cv2\n",
        "from google.colab.patches import cv2_imshow\n",
        "\n",
        "imagem = cv2.imread('bot-administrador-do-grupo.jpg')\n",
        "cv2_imshow(imagem)"
      ],
      "metadata": {
        "id": "MdPlTnvoagFw"
      },
      "execution_count": null,
      "outputs": []
    },
    {
      "cell_type": "markdown",
      "source": [
        "1.5. Desabilite a opção de adicionar o *bot* a novos grupos."
      ],
      "metadata": {
        "id": "_D2WT_iueaRr"
      }
    },
    {
      "cell_type": "code",
      "source": [
        "!wget -O 'Desabilitado_o_bot_a_novos_grupos.jpg' 'https://raw.githubusercontent.com/petwillian/projetoTelegram-42/refs/heads/main/Desabilitado_o_bot_a_novos_grupos.jpg'"
      ],
      "metadata": {
        "id": "rMw4UafsanGb"
      },
      "execution_count": null,
      "outputs": []
    },
    {
      "cell_type": "code",
      "source": [
        "import cv2\n",
        "from google.colab.patches import cv2_imshow\n",
        "\n",
        "imagem = cv2.imread('Desabilitado_o_bot_a_novos_grupos.jpg')\n",
        "cv2_imshow(imagem)"
      ],
      "metadata": {
        "id": "H_P3xsC9ao4w"
      },
      "execution_count": null,
      "outputs": []
    },
    {
      "cell_type": "markdown",
      "source": [
        "1.6. Envie diversos tipos de mensagens no grupo (text, imagem, arquivos, video, áudio, etc.) e as consuma utilizand a API de *bots* do **Telegram**."
      ],
      "metadata": {
        "id": "t4PyML7VUPBd"
      }
    },
    {
      "cell_type": "code",
      "source": [
        "!wget -O 'API.jpg' 'https://raw.githubusercontent.com/petwillian/projetoTelegram-42/refs/heads/main/API.jpg'"
      ],
      "metadata": {
        "id": "A-KtII8EgOyQ"
      },
      "execution_count": null,
      "outputs": []
    },
    {
      "cell_type": "code",
      "source": [
        "import cv2\n",
        "from google.colab.patches import cv2_imshow\n",
        "\n",
        "imagem = cv2.imread('API.jpg')\n",
        "cv2_imshow(imagem)"
      ],
      "metadata": {
        "id": "8Nw0CVNQgQUw"
      },
      "execution_count": null,
      "outputs": []
    },
    {
      "cell_type": "markdown",
      "source": [
        "> **Nota:** A documentação completa da API pode ser encontrada neste [link](https://core.telegram.org/bots/api)"
      ],
      "metadata": {
        "id": "c4MXmvWMUetr"
      }
    },
    {
      "cell_type": "markdown",
      "source": [
        ">**Evidência Bot do Telegram**"
      ],
      "metadata": {
        "id": "xqw57EevR1m9"
      }
    },
    {
      "cell_type": "code",
      "source": [
        "!wget -O 'Evidência-Bot-do-Telegram.jpg' 'https://raw.githubusercontent.com/petwillian/projetoTelegram-42/refs/heads/main/Evidencia-Bot-do-Telegram.jpg'"
      ],
      "metadata": {
        "id": "eQPBbt7lR2et"
      },
      "execution_count": null,
      "outputs": []
    },
    {
      "cell_type": "code",
      "source": [
        "import cv2\n",
        "from google.colab.patches import cv2_imshow\n",
        "\n",
        "imagem = cv2.imread('Evidência-Bot-do-Telegram.jpg')\n",
        "cv2_imshow(imagem)"
      ],
      "metadata": {
        "id": "4pUKLLEhR2PN"
      },
      "execution_count": null,
      "outputs": []
    },
    {
      "cell_type": "markdown",
      "source": [
        ">**Evidência Grupo do Telegram**"
      ],
      "metadata": {
        "id": "Uo-cmAvsSlz1"
      }
    },
    {
      "cell_type": "code",
      "source": [
        "!wget -O 'Evidência-Grupo-do-Telegram.jpg' 'https://raw.githubusercontent.com/petwillian/projetoTelegram-42/refs/heads/main/Evidencia-Grupo-do-Telegram.jpg'"
      ],
      "metadata": {
        "id": "_THQvtiZSimp"
      },
      "execution_count": null,
      "outputs": []
    },
    {
      "cell_type": "code",
      "source": [
        "import cv2\n",
        "from google.colab.patches import cv2_imshow\n",
        "\n",
        "imagem = cv2.imread('Evidência-Grupo-do-Telegram.jpg')\n",
        "cv2_imshow(imagem)"
      ],
      "metadata": {
        "id": "c5M49CEMSgCp"
      },
      "execution_count": null,
      "outputs": []
    },
    {
      "cell_type": "markdown",
      "source": [
        "> **Consumindo o conteúdo do grupo via API**"
      ],
      "metadata": {
        "id": "VNioJq0uyus4"
      }
    },
    {
      "cell_type": "code",
      "source": [
        "from getpass import getpass\n",
        "import json\n",
        "import requests"
      ],
      "metadata": {
        "id": "y3idc49neaRt"
      },
      "execution_count": 7,
      "outputs": []
    },
    {
      "cell_type": "code",
      "source": [
        "token = getpass()"
      ],
      "metadata": {
        "colab": {
          "base_uri": "https://localhost:8080/"
        },
        "id": "UwuTbMo6zFK0",
        "outputId": "96c1c523-1294-4828-b282-fe3214add2f2"
      },
      "execution_count": 11,
      "outputs": [
        {
          "name": "stdout",
          "output_type": "stream",
          "text": [
            "··········\n"
          ]
        }
      ]
    },
    {
      "cell_type": "code",
      "source": [
        "# URL do bot a ser consumido via API do Telegram:\n",
        "base_url = f'https://api.telegram.org/bot{token}'\n",
        "\n",
        "# método GetMe:\n",
        "resposta = requests.get(url=f'{base_url}/getme')\n",
        "print(json.dumps(json.loads(resposta.text), indent=2))"
      ],
      "metadata": {
        "colab": {
          "base_uri": "https://localhost:8080/"
        },
        "id": "P8db1JUDzHfa",
        "outputId": "0778d51a-cb8e-4412-9e22-09c55f797a1d"
      },
      "execution_count": 28,
      "outputs": [
        {
          "output_type": "stream",
          "name": "stdout",
          "text": [
            "{\n",
            "  \"ok\": true,\n",
            "  \"result\": {\n",
            "    \"id\": 7265032899,\n",
            "    \"is_bot\": true,\n",
            "    \"first_name\": \"projeto_telegram\",\n",
            "    \"username\": \"projeto_telegram_petrucio_bot\",\n",
            "    \"can_join_groups\": false,\n",
            "    \"can_read_all_group_messages\": false,\n",
            "    \"supports_inline_queries\": false,\n",
            "    \"can_connect_to_business\": false,\n",
            "    \"has_main_web_app\": false\n",
            "  }\n",
            "}\n"
          ]
        }
      ]
    },
    {
      "cell_type": "code",
      "source": [
        "# método GetUpdates (checar por conteúdos enviados):\n",
        "resposta = requests.get(url=f'{base_url}/getupdates')\n",
        "print(json.dumps(json.loads(resposta.text), indent=2))"
      ],
      "metadata": {
        "id": "rIVou_hJz5z_"
      },
      "execution_count": null,
      "outputs": []
    }
  ]
}